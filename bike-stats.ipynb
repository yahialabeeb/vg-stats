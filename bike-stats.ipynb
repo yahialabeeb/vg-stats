{
 "cells": [
  {
   "cell_type": "markdown",
   "metadata": {},
   "source": [
    "## Bike statistics "
   ]
  },
  {
   "cell_type": "code",
   "execution_count": 14,
   "metadata": {},
   "outputs": [
    {
     "name": "stderr",
     "output_type": "stream",
     "text": [
      "/home/yahialabib/401/vg-stats/.venv/lib/python3.9/site-packages/IPython/core/interactiveshell.py:3444: FutureWarning: The error_bad_lines argument has been deprecated and will be removed in a future version.\n",
      "\n",
      "\n",
      "  exec(code_obj, self.user_global_ns, self.user_ns)\n"
     ]
    }
   ],
   "source": [
    "import pandas as pd\n",
    "df_station = pd.read_csv('station.csv')\n",
    "df_weather = pd.read_csv('weather.csv')\n",
    "\n",
    "df_trip = pd.read_csv('trip.csv', error_bad_lines=False)\n"
   ]
  },
  {
   "cell_type": "markdown",
   "metadata": {},
   "source": [
    "### What is the average trip duration for a borrowed bicycle?"
   ]
  },
  {
   "cell_type": "code",
   "execution_count": 14,
   "metadata": {},
   "outputs": [
    {
     "data": {
      "text/plain": [
       "1178.3542840325176"
      ]
     },
     "execution_count": 14,
     "metadata": {},
     "output_type": "execute_result"
    }
   ],
   "source": [
    "df_trip[\"tripduration\"].mean()"
   ]
  },
  {
   "cell_type": "markdown",
   "metadata": {},
   "source": [
    "### 2 What's the most common age of a bicycle-sharer?"
   ]
  },
  {
   "cell_type": "code",
   "execution_count": 19,
   "metadata": {},
   "outputs": [
    {
     "data": {
      "text/plain": [
       "0    34.0\n",
       "dtype: float64"
      ]
     },
     "execution_count": 19,
     "metadata": {},
     "output_type": "execute_result"
    }
   ],
   "source": [
    "avg_age = 2021 - df_trip[\"birthyear\"].mode()\n",
    "avg_age"
   ]
  },
  {
   "cell_type": "markdown",
   "metadata": {},
   "source": [
    "# 3 Given all the weather data here, find the average precipitation per month, and the median precipitation."
   ]
  },
  {
   "cell_type": "code",
   "execution_count": 15,
   "metadata": {},
   "outputs": [],
   "source": [
    "def get_month(date):\n",
    "    return date.split('/')[2] +\"/\"+ date.split('/')[0]\n",
    "df_weather['Month']=df_weather['Date'].apply(get_month)\n",
    "average =df_weather.groupby('Month')['Precipitation_In']\n",
    "# average.mean()\n",
    "# average.median()"
   ]
  },
  {
   "cell_type": "markdown",
   "metadata": {},
   "source": [
    "# 4 What's the average number of bikes at a given bike station?"
   ]
  },
  {
   "cell_type": "code",
   "execution_count": 40,
   "metadata": {},
   "outputs": [
    {
     "name": "stderr",
     "output_type": "stream",
     "text": [
      "/tmp/ipykernel_12412/4186710161.py:1: FutureWarning: Dropping of nuisance columns in DataFrame reductions (with 'numeric_only=None') is deprecated; in a future version this will raise TypeError.  Select only valid columns before calling the reduction.\n",
      "  avg_bike =df_station[df_station['decommission_date'].isnull()].mean()\n"
     ]
    },
    {
     "data": {
      "text/plain": [
       "17.74074074074074"
      ]
     },
     "execution_count": 40,
     "metadata": {},
     "output_type": "execute_result"
    }
   ],
   "source": [
    "avg_bike =df_station[df_station['decommission_date'].isnull()].mean()\n",
    "avg_bike=avg_bike.current_dockcount\n",
    "avg_bike"
   ]
  },
  {
   "cell_type": "markdown",
   "metadata": {},
   "source": [
    "# 5 When a bike station is modified, is it more likely that it'll lose bikes or gain bikes? How do you know?"
   ]
  },
  {
   "cell_type": "code",
   "execution_count": 51,
   "metadata": {},
   "outputs": [
    {
     "name": "stderr",
     "output_type": "stream",
     "text": [
      "/tmp/ipykernel_12412/2233663551.py:1: FutureWarning: Dropping of nuisance columns in DataFrame reductions (with 'numeric_only=None') is deprecated; in a future version this will raise TypeError.  Select only valid columns before calling the reduction.\n",
      "  avg_bike_non =df_station[df_station[\"modification_date\"].notnull()].sum()\n"
     ]
    },
    {
     "data": {
      "text/plain": [
       "64"
      ]
     },
     "execution_count": 51,
     "metadata": {},
     "output_type": "execute_result"
    }
   ],
   "source": [
    "avg_bike_non =df_station[df_station[\"modification_date\"].notnull()].sum()\n",
    "avg_bike_non.install_dockcount - avg_bike_non.current_dockcount"
   ]
  },
  {
   "cell_type": "markdown",
   "metadata": {},
   "source": [
    "# 6 what is the max temp "
   ]
  },
  {
   "cell_type": "code",
   "execution_count": 3,
   "metadata": {},
   "outputs": [
    {
     "data": {
      "text/plain": [
       "98"
      ]
     },
     "execution_count": 3,
     "metadata": {},
     "output_type": "execute_result"
    }
   ],
   "source": [
    "df_weather[\"Max_Temperature_F\"].max()"
   ]
  },
  {
   "cell_type": "markdown",
   "metadata": {},
   "source": [
    "# 7 what is the longest trip "
   ]
  },
  {
   "cell_type": "code",
   "execution_count": 5,
   "metadata": {},
   "outputs": [
    {
     "data": {
      "text/plain": [
       "28794.398"
      ]
     },
     "execution_count": 5,
     "metadata": {},
     "output_type": "execute_result"
    }
   ],
   "source": [
    "df_trip[\"tripduration\"].max()"
   ]
  },
  {
   "cell_type": "markdown",
   "metadata": {},
   "source": [
    "# 8 What is the newest station \n"
   ]
  },
  {
   "cell_type": "code",
   "execution_count": 13,
   "metadata": {},
   "outputs": [
    {
     "data": {
      "text/plain": [
       "20160809"
      ]
     },
     "execution_count": 13,
     "metadata": {},
     "output_type": "execute_result"
    }
   ],
   "source": [
    "def get_date_as_number(date):\n",
    "    if len(date) == 11:\n",
    "        return int(date.split('/')[2] + date.split('/')[0] +date.split('/')[1])\n",
    "    else :\n",
    "        month = date.split('/')[0]\n",
    "        day = date.split('/')[1]\n",
    "        if len(date.split('/')[0]) == 1:\n",
    "            month = \"0\" + month\n",
    "        if len(date.split('/')[1]) == 1:\n",
    "            day = \"0\" + day\n",
    "    return int(date.split('/')[2] + month + day)\n",
    "\n",
    "df_station['install_date'].apply(get_date_as_number).max()"
   ]
  }
 ],
 "metadata": {
  "interpreter": {
   "hash": "a896d172fe1dc84ed085319a3e3c9ac38a191cb2d0fe6a92984b9e48a587480a"
  },
  "kernelspec": {
   "display_name": "Python 3.9.5 64-bit ('.venv': poetry)",
   "language": "python",
   "name": "python3"
  },
  "language_info": {
   "codemirror_mode": {
    "name": "ipython",
    "version": 3
   },
   "file_extension": ".py",
   "mimetype": "text/x-python",
   "name": "python",
   "nbconvert_exporter": "python",
   "pygments_lexer": "ipython3",
   "version": "3.9.5"
  },
  "orig_nbformat": 4
 },
 "nbformat": 4,
 "nbformat_minor": 2
}
