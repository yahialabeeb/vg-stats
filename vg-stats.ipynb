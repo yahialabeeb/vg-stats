{
 "cells": [
  {
   "cell_type": "markdown",
   "metadata": {},
   "source": [
    "# Games sales "
   ]
  },
  {
   "cell_type": "code",
   "execution_count": 2,
   "metadata": {},
   "outputs": [],
   "source": [
    "import pandas as pd\n",
    "df = pd.read_csv('vgsales.csv')"
   ]
  },
  {
   "cell_type": "markdown",
   "metadata": {},
   "source": [
    "### Which company is the most common video game publisher?\n",
    "### What’s the most common platform?\n",
    "### What about the most common genre?"
   ]
  },
  {
   "cell_type": "code",
   "execution_count": 3,
   "metadata": {},
   "outputs": [
    {
     "data": {
      "text/plain": [
       "'Electronic Arts'"
      ]
     },
     "execution_count": 3,
     "metadata": {},
     "output_type": "execute_result"
    }
   ],
   "source": [
    "most_common_publisher = df[\"Publisher\"].mode()[0]\n",
    "most_common_platform = df[\"Platform\"].mode()[0]\n",
    "most_common_genre = df[\"Genre\"].mode()[0]\n",
    "most_common_publisher"
   ]
  },
  {
   "cell_type": "markdown",
   "metadata": {},
   "source": []
  },
  {
   "cell_type": "code",
   "execution_count": 4,
   "metadata": {},
   "outputs": [],
   "source": [
    "top_twenty_highest_grossing_games = df[[\"Name\",\"Global_Sales\"]].sort_values('Global_Sales', ascending=False).head(20)\n",
    "# top_twenty_highest_grossing_games"
   ]
  },
  {
   "cell_type": "markdown",
   "metadata": {},
   "source": [
    "### For North American video game sales, what’s the median?\n"
   ]
  },
  {
   "cell_type": "code",
   "execution_count": 37,
   "metadata": {},
   "outputs": [
    {
     "data": {
      "text/plain": [
       "9931               Spider-Man: Edge of Time\n",
       "9934                       Turok: Evolution\n",
       "9957                               Deadpool\n",
       "9996             GT Advance 2: Rally Racing\n",
       "10000                        A Witch's Tale\n",
       "10012                     Nickelodeon Dance\n",
       "10020              Phantasy Star Collection\n",
       "10022                 LEGO Knights' Kingdom\n",
       "10024    Family Game Night 4: The Game Show\n",
       "10026                          NBA Jam 2002\n",
       "Name: Name, dtype: object"
      ]
     },
     "execution_count": 37,
     "metadata": {},
     "output_type": "execute_result"
    }
   ],
   "source": [
    "na_median_sales = df[\"NA_Sales\"].median()\n",
    "ten_median_na_seller_names = df[[\"Name\"]][df[\"NA_Sales\"] == na_median_sales].Name\n",
    "ten_median_na_seller_names = ten_median_na_seller_names[int(len(ten_median_na_seller_names)/2-5):int(len(ten_median_na_seller_names)/2+5)]\n",
    "ten_median_na_seller_names"
   ]
  },
  {
   "cell_type": "markdown",
   "metadata": {},
   "source": [
    "### For the top-selling game of all time, how many standard deviations above/below the mean are its sales for North America?"
   ]
  },
  {
   "cell_type": "code",
   "execution_count": 6,
   "metadata": {},
   "outputs": [],
   "source": [
    "#  \n",
    "syd_val = df['NA_Sales'].head(20)\n",
    "\n",
    "std_val=(syd_val - df[\"NA_Sales\"].mean())/df[\"NA_Sales\"].std()\n",
    "# top_twenty_highest_grossing_games"
   ]
  },
  {
   "cell_type": "markdown",
   "metadata": {},
   "source": [
    "### The Nintendo Wii seems to have outdone itself with games. How does its average number of sales compare with all of the other platforms?"
   ]
  },
  {
   "cell_type": "code",
   "execution_count": 7,
   "metadata": {},
   "outputs": [],
   "source": [
    "wii_avg = df[df[\"Platform\"] == \"Wii\"].Global_Sales.mean()\n",
    "not_wii_avg = df[df[\"Platform\"] != \"Wii\"].Global_Sales.mean()"
   ]
  },
  {
   "cell_type": "markdown",
   "metadata": {},
   "source": [
    "### what is the best game sales in japan "
   ]
  },
  {
   "cell_type": "code",
   "execution_count": 8,
   "metadata": {},
   "outputs": [
    {
     "data": {
      "text/plain": [
       "4    Pokemon Red/Pokemon Blue\n",
       "Name: Name, dtype: object"
      ]
     },
     "execution_count": 8,
     "metadata": {},
     "output_type": "execute_result"
    }
   ],
   "source": [
    "df[df[\"JP_Sales\"] == df.JP_Sales.max()].Name"
   ]
  },
  {
   "cell_type": "markdown",
   "metadata": {},
   "source": [
    "### best ps4 game sales"
   ]
  },
  {
   "cell_type": "code",
   "execution_count": 9,
   "metadata": {},
   "outputs": [
    {
     "data": {
      "text/plain": [
       "33    Call of Duty: Black Ops 3\n",
       "Name: Name, dtype: object"
      ]
     },
     "execution_count": 9,
     "metadata": {},
     "output_type": "execute_result"
    }
   ],
   "source": [
    "ps4 = df[df[\"Platform\"] == \"PS4\"].Global_Sales.max()\n",
    "best_sales_game = df[df['Global_Sales']==ps4].Name\n",
    "best_sales_game"
   ]
  },
  {
   "cell_type": "markdown",
   "metadata": {},
   "source": [
    "### Best game in 2010 \n"
   ]
  },
  {
   "cell_type": "code",
   "execution_count": 10,
   "metadata": {},
   "outputs": [
    {
     "data": {
      "text/plain": [
       "15    Kinect Adventures!\n",
       "Name: Name, dtype: object"
      ]
     },
     "execution_count": 10,
     "metadata": {},
     "output_type": "execute_result"
    }
   ],
   "source": [
    "y2010 = df[df[\"Year\"] == 2010.0][\"Global_Sales\"].max()\n",
    "best_name = df[df[\"Global_Sales\"] == y2010].Name\n",
    "best_name "
   ]
  },
  {
   "cell_type": "markdown",
   "metadata": {},
   "source": [
    "## Test"
   ]
  },
  {
   "cell_type": "code",
   "execution_count": 33,
   "metadata": {},
   "outputs": [
    {
     "name": "stdout",
     "output_type": "stream",
     "text": [
      "Success!!!\n"
     ]
    }
   ],
   "source": [
    "def test():\n",
    "\n",
    "    def assert_equal(actual,expected):\n",
    "        assert actual == expected, f\"Expected {expected} but got {actual}\"\n",
    "\n",
    "    assert_equal(most_common_publisher, \"Electronic Arts\")\n",
    "    assert_equal(most_common_platform, \"DS\")\n",
    "    assert_equal(most_common_genre, \"Action\")\n",
    "    assert_equal(top_twenty_highest_grossing_games.iloc[0].Name, \"Wii Sports\")\n",
    "    assert_equal(top_twenty_highest_grossing_games.iloc[19].Name, \"Brain Age: Train Your Brain in Minutes a Day\")\n",
    "    assert_equal(na_median_sales, 0.08)\n",
    "    # assert_equal(ten_median_na_seller_names, None)\n",
    "\n",
    "    print(\"Success!!!\")\n",
    "\n",
    "test()"
   ]
  }
 ],
 "metadata": {
  "interpreter": {
   "hash": "a896d172fe1dc84ed085319a3e3c9ac38a191cb2d0fe6a92984b9e48a587480a"
  },
  "kernelspec": {
   "display_name": "Python 3.9.5 64-bit ('.venv': poetry)",
   "language": "python",
   "name": "python3"
  },
  "language_info": {
   "codemirror_mode": {
    "name": "ipython",
    "version": 3
   },
   "file_extension": ".py",
   "mimetype": "text/x-python",
   "name": "python",
   "nbconvert_exporter": "python",
   "pygments_lexer": "ipython3",
   "version": "3.9.5"
  },
  "orig_nbformat": 4
 },
 "nbformat": 4,
 "nbformat_minor": 2
}
